{
 "cells": [
  {
   "cell_type": "code",
   "execution_count": 1,
   "metadata": {},
   "outputs": [
    {
     "name": "stdout",
     "output_type": "stream",
     "text": [
      "hello world!\n"
     ]
    }
   ],
   "source": [
    "println(\"hello world!\")"
   ]
  },
  {
   "cell_type": "code",
   "execution_count": 2,
   "metadata": {},
   "outputs": [
    {
     "name": "stderr",
     "output_type": "stream",
     "text": [
      "┌ Info: Precompiling StatPlots [60ddc479-9b66-56df-82fc-76a74619b69c]\n",
      "└ @ Base loading.jl:1342\n",
      "┌ Info: Skipping precompilation since __precompile__(false). Importing StatPlots [60ddc479-9b66-56df-82fc-76a74619b69c].\n",
      "└ @ Base loading.jl:1047\n"
     ]
    },
    {
     "data": {
      "image/svg+xml": "<?xml version=\"1.0\" encoding=\"utf-8\"?>\n<svg xmlns=\"http://www.w3.org/2000/svg\" xmlns:xlink=\"http://www.w3.org/1999/xlink\" width=\"600\" height=\"400\" viewBox=\"0 0 2400 1600\">\n<defs>\n  <clipPath id=\"clip2700\">\n    <rect x=\"0\" y=\"0\" width=\"2400\" height=\"1600\"/>\n  </clipPath>\n</defs>\n<path clip-path=\"url(#clip2700)\" d=\"\nM0 1600 L2400 1600 L2400 0 L0 0  Z\n  \" fill=\"#ffffff\" fill-rule=\"evenodd\" fill-opacity=\"1\"/>\n<defs>\n  <clipPath id=\"clip2701\">\n    <rect x=\"480\" y=\"0\" width=\"1681\" height=\"1600\"/>\n  </clipPath>\n</defs>\n<path clip-path=\"url(#clip2700)\" d=\"\nM153.898 1487.47 L2352.76 1487.47 L2352.76 121.675 L153.898 121.675  Z\n  \" fill=\"#ffffff\" fill-rule=\"evenodd\" fill-opacity=\"1\"/>\n<defs>\n  <clipPath id=\"clip2702\">\n    <rect x=\"153\" y=\"121\" width=\"2200\" height=\"1367\"/>\n  </clipPath>\n</defs>\n<polyline clip-path=\"url(#clip2702)\" style=\"stroke:#000000; stroke-width:2; stroke-opacity:0.1; fill:none\" points=\"\n  216.13,1487.47 216.13,121.675 \n  \"/>\n<polyline clip-path=\"url(#clip2702)\" style=\"stroke:#000000; stroke-width:2; stroke-opacity:0.1; fill:none\" points=\"\n  734.728,1487.47 734.728,121.675 \n  \"/>\n<polyline clip-path=\"url(#clip2702)\" style=\"stroke:#000000; stroke-width:2; stroke-opacity:0.1; fill:none\" points=\"\n  1253.33,1487.47 1253.33,121.675 \n  \"/>\n<polyline clip-path=\"url(#clip2702)\" style=\"stroke:#000000; stroke-width:2; stroke-opacity:0.1; fill:none\" points=\"\n  1771.93,1487.47 1771.93,121.675 \n  \"/>\n<polyline clip-path=\"url(#clip2702)\" style=\"stroke:#000000; stroke-width:2; stroke-opacity:0.1; fill:none\" points=\"\n  2290.52,1487.47 2290.52,121.675 \n  \"/>\n<polyline clip-path=\"url(#clip2702)\" style=\"stroke:#000000; stroke-width:2; stroke-opacity:0.1; fill:none\" points=\"\n  153.898,1448.82 2352.76,1448.82 \n  \"/>\n<polyline clip-path=\"url(#clip2702)\" style=\"stroke:#000000; stroke-width:2; stroke-opacity:0.1; fill:none\" points=\"\n  153.898,1187.01 2352.76,1187.01 \n  \"/>\n<polyline clip-path=\"url(#clip2702)\" style=\"stroke:#000000; stroke-width:2; stroke-opacity:0.1; fill:none\" points=\"\n  153.898,925.192 2352.76,925.192 \n  \"/>\n<polyline clip-path=\"url(#clip2702)\" style=\"stroke:#000000; stroke-width:2; stroke-opacity:0.1; fill:none\" points=\"\n  153.898,663.378 2352.76,663.378 \n  \"/>\n<polyline clip-path=\"url(#clip2702)\" style=\"stroke:#000000; stroke-width:2; stroke-opacity:0.1; fill:none\" points=\"\n  153.898,401.564 2352.76,401.564 \n  \"/>\n<polyline clip-path=\"url(#clip2702)\" style=\"stroke:#000000; stroke-width:2; stroke-opacity:0.1; fill:none\" points=\"\n  153.898,139.75 2352.76,139.75 \n  \"/>\n<polyline clip-path=\"url(#clip2700)\" style=\"stroke:#000000; stroke-width:4; stroke-opacity:1; fill:none\" points=\"\n  153.898,1487.47 2352.76,1487.47 \n  \"/>\n<polyline clip-path=\"url(#clip2700)\" style=\"stroke:#000000; stroke-width:4; stroke-opacity:1; fill:none\" points=\"\n  153.898,1487.47 153.898,121.675 \n  \"/>\n<polyline clip-path=\"url(#clip2700)\" style=\"stroke:#000000; stroke-width:4; stroke-opacity:1; fill:none\" points=\"\n  216.13,1487.47 216.13,1471.09 \n  \"/>\n<polyline clip-path=\"url(#clip2700)\" style=\"stroke:#000000; stroke-width:4; stroke-opacity:1; fill:none\" points=\"\n  734.728,1487.47 734.728,1471.09 \n  \"/>\n<polyline clip-path=\"url(#clip2700)\" style=\"stroke:#000000; stroke-width:4; stroke-opacity:1; fill:none\" points=\"\n  1253.33,1487.47 1253.33,1471.09 \n  \"/>\n<polyline clip-path=\"url(#clip2700)\" style=\"stroke:#000000; stroke-width:4; stroke-opacity:1; fill:none\" points=\"\n  1771.93,1487.47 1771.93,1471.09 \n  \"/>\n<polyline clip-path=\"url(#clip2700)\" style=\"stroke:#000000; stroke-width:4; stroke-opacity:1; fill:none\" points=\"\n  2290.52,1487.47 2290.52,1471.09 \n  \"/>\n<polyline clip-path=\"url(#clip2700)\" style=\"stroke:#000000; stroke-width:4; stroke-opacity:1; fill:none\" points=\"\n  153.898,1448.82 180.284,1448.82 \n  \"/>\n<polyline clip-path=\"url(#clip2700)\" style=\"stroke:#000000; stroke-width:4; stroke-opacity:1; fill:none\" points=\"\n  153.898,1187.01 180.284,1187.01 \n  \"/>\n<polyline clip-path=\"url(#clip2700)\" style=\"stroke:#000000; stroke-width:4; stroke-opacity:1; fill:none\" points=\"\n  153.898,925.192 180.284,925.192 \n  \"/>\n<polyline clip-path=\"url(#clip2700)\" style=\"stroke:#000000; stroke-width:4; stroke-opacity:1; fill:none\" points=\"\n  153.898,663.378 180.284,663.378 \n  \"/>\n<polyline clip-path=\"url(#clip2700)\" style=\"stroke:#000000; stroke-width:4; stroke-opacity:1; fill:none\" points=\"\n  153.898,401.564 180.284,401.564 \n  \"/>\n<polyline clip-path=\"url(#clip2700)\" style=\"stroke:#000000; stroke-width:4; stroke-opacity:1; fill:none\" points=\"\n  153.898,139.75 180.284,139.75 \n  \"/>\n<g clip-path=\"url(#clip2700)\">\n<text style=\"fill:#000000; fill-opacity:1; font-family:Arial,Helvetica Neue,Helvetica,sans-serif; font-size:48px; text-anchor:middle;\" transform=\"rotate(0, 216.13, 1541.47)\" x=\"216.13\" y=\"1541.47\">0.00</text>\n</g>\n<g clip-path=\"url(#clip2700)\">\n<text style=\"fill:#000000; fill-opacity:1; font-family:Arial,Helvetica Neue,Helvetica,sans-serif; font-size:48px; text-anchor:middle;\" transform=\"rotate(0, 734.728, 1541.47)\" x=\"734.728\" y=\"1541.47\">0.25</text>\n</g>\n<g clip-path=\"url(#clip2700)\">\n<text style=\"fill:#000000; fill-opacity:1; font-family:Arial,Helvetica Neue,Helvetica,sans-serif; font-size:48px; text-anchor:middle;\" transform=\"rotate(0, 1253.33, 1541.47)\" x=\"1253.33\" y=\"1541.47\">0.50</text>\n</g>\n<g clip-path=\"url(#clip2700)\">\n<text style=\"fill:#000000; fill-opacity:1; font-family:Arial,Helvetica Neue,Helvetica,sans-serif; font-size:48px; text-anchor:middle;\" transform=\"rotate(0, 1771.93, 1541.47)\" x=\"1771.93\" y=\"1541.47\">0.75</text>\n</g>\n<g clip-path=\"url(#clip2700)\">\n<text style=\"fill:#000000; fill-opacity:1; font-family:Arial,Helvetica Neue,Helvetica,sans-serif; font-size:48px; text-anchor:middle;\" transform=\"rotate(0, 2290.52, 1541.47)\" x=\"2290.52\" y=\"1541.47\">1.00</text>\n</g>\n<g clip-path=\"url(#clip2700)\">\n<text style=\"fill:#000000; fill-opacity:1; font-family:Arial,Helvetica Neue,Helvetica,sans-serif; font-size:48px; text-anchor:end;\" transform=\"rotate(0, 129.898, 1466.32)\" x=\"129.898\" y=\"1466.32\">0.0</text>\n</g>\n<g clip-path=\"url(#clip2700)\">\n<text style=\"fill:#000000; fill-opacity:1; font-family:Arial,Helvetica Neue,Helvetica,sans-serif; font-size:48px; text-anchor:end;\" transform=\"rotate(0, 129.898, 1204.51)\" x=\"129.898\" y=\"1204.51\">0.5</text>\n</g>\n<g clip-path=\"url(#clip2700)\">\n<text style=\"fill:#000000; fill-opacity:1; font-family:Arial,Helvetica Neue,Helvetica,sans-serif; font-size:48px; text-anchor:end;\" transform=\"rotate(0, 129.898, 942.692)\" x=\"129.898\" y=\"942.692\">1.0</text>\n</g>\n<g clip-path=\"url(#clip2700)\">\n<text style=\"fill:#000000; fill-opacity:1; font-family:Arial,Helvetica Neue,Helvetica,sans-serif; font-size:48px; text-anchor:end;\" transform=\"rotate(0, 129.898, 680.878)\" x=\"129.898\" y=\"680.878\">1.5</text>\n</g>\n<g clip-path=\"url(#clip2700)\">\n<text style=\"fill:#000000; fill-opacity:1; font-family:Arial,Helvetica Neue,Helvetica,sans-serif; font-size:48px; text-anchor:end;\" transform=\"rotate(0, 129.898, 419.064)\" x=\"129.898\" y=\"419.064\">2.0</text>\n</g>\n<g clip-path=\"url(#clip2700)\">\n<text style=\"fill:#000000; fill-opacity:1; font-family:Arial,Helvetica Neue,Helvetica,sans-serif; font-size:48px; text-anchor:end;\" transform=\"rotate(0, 129.898, 157.25)\" x=\"129.898\" y=\"157.25\">2.5</text>\n</g>\n<g clip-path=\"url(#clip2700)\">\n<text style=\"fill:#000000; fill-opacity:1; font-family:Arial,Helvetica Neue,Helvetica,sans-serif; font-size:84px; text-anchor:middle;\" transform=\"rotate(0, 1253.33, 73.2)\" x=\"1253.33\" y=\"73.2\">Density</text>\n</g>\n<path clip-path=\"url(#clip2702)\" d=\"\nM216.13 1448.82 L236.388 1448.82 L423.704 1427.13 L451.846 1414.87 L479.988 1398.71 L508.131 1378.22 L536.273 1353.11 L583.861 1299.56 L631.449 1231.94 L683.142 1143.31 \n  L734.836 1040.87 L782.493 936.838 L830.15 826.777 L881.244 706.132 L932.337 587.378 L991.534 458.516 L1050.73 345.896 L1077.03 302.787 L1103.34 264.661 L1129.64 231.955 \n  L1155.94 205.045 L1179.01 186.464 L1202.08 172.743 L1225.14 164.006 L1248.21 160.33 L1273.36 162.125 L1298.5 169.956 L1323.65 183.738 L1348.8 203.326 L1374.1 228.68 \n  L1399.39 259.431 L1424.69 295.251 L1449.99 335.76 L1505.93 439.79 L1561.87 559.279 L1615.09 681.841 L1668.32 807.516 L1723.66 935.702 L1779 1055.82 L1825.58 1147.15 \n  L1872.17 1227.16 L1900.61 1269.77 L1929.05 1307.4 L1957.48 1339.98 L1985.92 1367.56 L2012.65 1389.07 L2039.39 1406.53 L2066.12 1420.24 L2092.85 1430.6 L2178.51 1446.57 \n  L2264.16 1448.81 L2277.34 1448.82 L2290.52 1448.82 L2290.52 1448.82 L2277.34 1448.82 L2264.16 1448.82 L2178.51 1448.82 L2092.85 1448.82 L2066.12 1448.82 L2039.39 1448.82 \n  L2012.65 1448.82 L1985.92 1448.82 L1957.48 1448.82 L1929.05 1448.82 L1900.61 1448.82 L1872.17 1448.82 L1825.58 1448.82 L1779 1448.82 L1723.66 1448.82 L1668.32 1448.82 \n  L1615.09 1448.82 L1561.87 1448.82 L1505.93 1448.82 L1449.99 1448.82 L1424.69 1448.82 L1399.39 1448.82 L1374.1 1448.82 L1348.8 1448.82 L1323.65 1448.82 L1298.5 1448.82 \n  L1273.36 1448.82 L1248.21 1448.82 L1225.14 1448.82 L1202.08 1448.82 L1179.01 1448.82 L1155.94 1448.82 L1129.64 1448.82 L1103.34 1448.82 L1077.03 1448.82 L1050.73 1448.82 \n  L991.534 1448.82 L932.337 1448.82 L881.244 1448.82 L830.15 1448.82 L782.493 1448.82 L734.836 1448.82 L683.142 1448.82 L631.449 1448.82 L583.861 1448.82 L536.273 1448.82 \n  L508.131 1448.82 L479.988 1448.82 L451.846 1448.82 L423.704 1448.82 L236.388 1448.82 L216.13 1448.82  Z\n  \" fill=\"#0000ff\" fill-rule=\"evenodd\" fill-opacity=\"0.2\"/>\n<polyline clip-path=\"url(#clip2702)\" style=\"stroke:#009af9; stroke-width:4; stroke-opacity:1; fill:none\" points=\"\n  216.13,1448.82 236.388,1448.82 423.704,1427.13 451.846,1414.87 479.988,1398.71 508.131,1378.22 536.273,1353.11 583.861,1299.56 631.449,1231.94 683.142,1143.31 \n  734.836,1040.87 782.493,936.838 830.15,826.777 881.244,706.132 932.337,587.378 991.534,458.516 1050.73,345.896 1077.03,302.787 1103.34,264.661 1129.64,231.955 \n  1155.94,205.045 1179.01,186.464 1202.08,172.743 1225.14,164.006 1248.21,160.33 1273.36,162.125 1298.5,169.956 1323.65,183.738 1348.8,203.326 1374.1,228.68 \n  1399.39,259.431 1424.69,295.251 1449.99,335.76 1505.93,439.79 1561.87,559.279 1615.09,681.841 1668.32,807.516 1723.66,935.702 1779,1055.82 1825.58,1147.15 \n  1872.17,1227.16 1900.61,1269.77 1929.05,1307.4 1957.48,1339.98 1985.92,1367.56 2012.65,1389.07 2039.39,1406.53 2066.12,1420.24 2092.85,1430.6 2178.51,1446.57 \n  2264.16,1448.81 2277.34,1448.82 2290.52,1448.82 \n  \"/>\n<path clip-path=\"url(#clip2700)\" d=\"\nM1687.65 326.155 L2280.76 326.155 L2280.76 205.195 L1687.65 205.195  Z\n  \" fill=\"#ffffff\" fill-rule=\"evenodd\" fill-opacity=\"1\"/>\n<polyline clip-path=\"url(#clip2700)\" style=\"stroke:#000000; stroke-width:4; stroke-opacity:1; fill:none\" points=\"\n  1687.65,326.155 2280.76,326.155 2280.76,205.195 1687.65,205.195 1687.65,326.155 \n  \"/>\n<path clip-path=\"url(#clip2700)\" d=\"\nM1711.65 289.867 L1855.65 289.867 L1855.65 241.483 L1711.65 241.483 L1711.65 289.867  Z\n  \" fill=\"#0000ff\" fill-rule=\"evenodd\" fill-opacity=\"0.2\"/>\n<polyline clip-path=\"url(#clip2700)\" style=\"stroke:#009af9; stroke-width:4; stroke-opacity:1; fill:none\" points=\"\n  1711.65,241.483 1855.65,241.483 \n  \"/>\n<g clip-path=\"url(#clip2700)\">\n<text style=\"fill:#000000; fill-opacity:1; font-family:Arial,Helvetica Neue,Helvetica,sans-serif; font-size:48px; text-anchor:start;\" transform=\"rotate(0, 1879.65, 283.175)\" x=\"1879.65\" y=\"283.175\">Beta Distribution</text>\n</g>\n</svg>\n"
     },
     "execution_count": 2,
     "metadata": {},
     "output_type": "execute_result"
    }
   ],
   "source": [
    "using Distributions\n",
    "using StatPlots\n",
    "\n",
    "plot(Beta(5,5), fillrange=0, fillalpha=0.2 , fillcolor=:blue, label=\"Beta Distribution\", title=\"Density\")"
   ]
  }
 ],
 "metadata": {
  "kernelspec": {
   "display_name": "Julia 1.6.7",
   "language": "julia",
   "name": "julia-1.6"
  },
  "language_info": {
   "file_extension": ".jl",
   "mimetype": "application/julia",
   "name": "julia",
   "version": "1.6.7"
  },
  "orig_nbformat": 4
 },
 "nbformat": 4,
 "nbformat_minor": 2
}
