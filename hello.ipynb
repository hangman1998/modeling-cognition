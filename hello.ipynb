{
 "cells": [
  {
   "cell_type": "code",
   "execution_count": 5,
   "metadata": {
    "pycharm": {
     "name": "#%%\n"
    }
   },
   "outputs": [],
   "source": [
    "using Turing\n",
    "using StatsPlots\n",
    "using Random\n"
   ]
  },
  {
   "cell_type": "code",
   "execution_count": 7,
   "metadata": {},
   "outputs": [],
   "source": [
    "@model function gdemo(x, y)\n",
    "    s² ~ InverseGamma(2, 3)\n",
    "    m ~ Normal(0, sqrt(s²))\n",
    "    x ~ Normal(m, sqrt(s²))\n",
    "    y ~ Normal(m, sqrt(s²))\n",
    "  end\n",
    "  \n",
    "  #  Run sampler, collect results\n",
    "  chn = sample(gdemo(1.5, 2), HMC(0.1, 5), 1000)\n",
    "  \n",
    "  # Summarise results\n",
    "  describe(chn)\n",
    "  \n",
    "  # Plot and save results\n",
    "  p = plot(chn)\n",
    "  savefig(\"gdemo-plot.png\")"
   ]
  },
  {
   "cell_type": "code",
   "execution_count": null,
   "metadata": {},
   "outputs": [],
   "source": [
    "# Set the true probability of heads in a coin.\n",
    "p_true = 0.5\n",
    "\n",
    "# Iterate from having seen 0 observations to 100 observations.\n",
    "Ns = 0:100\n",
    "\n",
    "# Draw data from a Bernoulli distribution, i.e. draw heads or tails.\n",
    "Random.seed!(12)\n",
    "data = rand(Bernoulli(p_true), last(Ns))\n",
    "\n",
    "# Declare our Turing model.\n",
    "@model function coinflip(y)\n",
    "    # Our prior belief about the probability of heads in a coin.\n",
    "    p ~ Beta(1, 1)\n",
    "\n",
    "    # The number of observations.\n",
    "    N = length(y)\n",
    "    for n in 1:N\n",
    "        # Heads or tails of a coin are drawn from a Bernoulli distribution.\n",
    "        y[n] ~ Bernoulli(p)\n",
    "    end\n",
    "end\n",
    "\n",
    "# Settings of the Hamiltonian Monte Carlo (HMC) sampler.\n",
    "iterations = 1000\n",
    "ϵ = 0.05\n",
    "τ = 10\n",
    "\n",
    "# Start sampling.\n",
    "chain = sample(coinflip(data), HMC(ϵ, τ), iterations)\n",
    "\n",
    "# Plot a summary of the sampling process for the parameter p, i.e. the probability of heads in a coin.\n",
    "histogram(chain[:p])"
   ]
  }
 ],
 "metadata": {
  "kernelspec": {
   "display_name": "Julia 1.6.7",
   "language": "julia",
   "name": "julia-1.6"
  },
  "language_info": {
   "file_extension": ".jl",
   "mimetype": "application/julia",
   "name": "julia",
   "version": "1.6.7"
  },
  "orig_nbformat": 4
 },
 "nbformat": 4,
 "nbformat_minor": 2
}
