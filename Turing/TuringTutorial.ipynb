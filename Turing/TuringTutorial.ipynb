{
 "cells": [
  {
   "cell_type": "code",
   "execution_count": 2,
   "metadata": {
    "pycharm": {
     "name": "#%%\n"
    }
   },
   "outputs": [
    {
     "name": "stderr",
     "output_type": "stream",
     "text": [
      "┌ Info: Precompiling Turing [fce5fe82-541a-59a6-adf8-730c64b5f9a0]\n",
      "└ @ Base loading.jl:1662\n"
     ]
    }
   ],
   "source": [
    "using Turing\n",
    "using StatsPlots\n",
    "using Random"
   ]
  },
  {
   "cell_type": "code",
   "execution_count": 3,
   "metadata": {},
   "outputs": [
    {
     "data": {
      "text/plain": [
       "2-element Vector{ChainDataFrame}:\n",
       " Summary Statistics (2 x 8)\n",
       " Quantiles (2 x 6)"
      ]
     },
     "execution_count": 3,
     "metadata": {},
     "output_type": "execute_result"
    }
   ],
   "source": [
    "@model function gdemo(x, y)\n",
    "    s² ~ InverseGamma(2, 3)\n",
    "    m ~ Normal(0, sqrt(s²))\n",
    "    x ~ Normal(m, sqrt(s²))\n",
    "    y ~ Normal(m, sqrt(s²))\n",
    "  end\n",
    "  \n",
    "  #  Run sampler, collect results\n",
    "  chn = sample(gdemo(1.5, 2), HMC(0.1, 5), 1000)\n",
    "  \n",
    "  # Summarise results\n",
    "  describe(chn)\n",
    "  \n",
    "  # # Plot and save results\n",
    "  # plot(chn)"
   ]
  },
  {
   "cell_type": "code",
   "execution_count": 3,
   "metadata": {},
   "outputs": [
    {
     "data": {
      "image/svg+xml": "<?xml version=\"1.0\" encoding=\"utf-8\"?>\n<svg xmlns=\"http://www.w3.org/2000/svg\" xmlns:xlink=\"http://www.w3.org/1999/xlink\" width=\"600\" height=\"400\" viewBox=\"0 0 2400 1600\">\n<defs>\n  <clipPath id=\"clip5600\">\n    <rect x=\"0\" y=\"0\" width=\"2400\" height=\"1600\"/>\n  </clipPath>\n</defs>\n<path clip-path=\"url(#clip5600)\" d=\"\nM0 1600 L2400 1600 L2400 0 L0 0  Z\n  \" fill=\"#ffffff\" fill-rule=\"evenodd\" fill-opacity=\"1\"/>\n<defs>\n  <clipPath id=\"clip5601\">\n    <rect x=\"480\" y=\"0\" width=\"1681\" height=\"1600\"/>\n  </clipPath>\n</defs>\n<path clip-path=\"url(#clip5600)\" d=\"\nM183.279 1491.86 L2352.76 1491.86 L2352.76 47.2441 L183.279 47.2441  Z\n  \" fill=\"#ffffff\" fill-rule=\"evenodd\" fill-opacity=\"1\"/>\n<defs>\n  <clipPath id=\"clip5602\">\n    <rect x=\"183\" y=\"47\" width=\"2170\" height=\"1446\"/>\n  </clipPath>\n</defs>\n<polyline clip-path=\"url(#clip5602)\" style=\"stroke:#000000; stroke-width:2; stroke-opacity:0.1; fill:none\" points=\"\n  242.266,1491.86 242.266,47.2441 \n  \"/>\n<polyline clip-path=\"url(#clip5602)\" style=\"stroke:#000000; stroke-width:2; stroke-opacity:0.1; fill:none\" points=\"\n  543.958,1491.86 543.958,47.2441 \n  \"/>\n<polyline clip-path=\"url(#clip5602)\" style=\"stroke:#000000; stroke-width:2; stroke-opacity:0.1; fill:none\" points=\"\n  845.649,1491.86 845.649,47.2441 \n  \"/>\n<polyline clip-path=\"url(#clip5602)\" style=\"stroke:#000000; stroke-width:2; stroke-opacity:0.1; fill:none\" points=\"\n  1147.34,1491.86 1147.34,47.2441 \n  \"/>\n<polyline clip-path=\"url(#clip5602)\" style=\"stroke:#000000; stroke-width:2; stroke-opacity:0.1; fill:none\" points=\"\n  1449.03,1491.86 1449.03,47.2441 \n  \"/>\n<polyline clip-path=\"url(#clip5602)\" style=\"stroke:#000000; stroke-width:2; stroke-opacity:0.1; fill:none\" points=\"\n  1750.72,1491.86 1750.72,47.2441 \n  \"/>\n<polyline clip-path=\"url(#clip5602)\" style=\"stroke:#000000; stroke-width:2; stroke-opacity:0.1; fill:none\" points=\"\n  2052.42,1491.86 2052.42,47.2441 \n  \"/>\n<polyline clip-path=\"url(#clip5602)\" style=\"stroke:#000000; stroke-width:2; stroke-opacity:0.1; fill:none\" points=\"\n  183.279,1450.97 2352.76,1450.97 \n  \"/>\n<polyline clip-path=\"url(#clip5602)\" style=\"stroke:#000000; stroke-width:2; stroke-opacity:0.1; fill:none\" points=\"\n  183.279,1032.92 2352.76,1032.92 \n  \"/>\n<polyline clip-path=\"url(#clip5602)\" style=\"stroke:#000000; stroke-width:2; stroke-opacity:0.1; fill:none\" points=\"\n  183.279,614.873 2352.76,614.873 \n  \"/>\n<polyline clip-path=\"url(#clip5602)\" style=\"stroke:#000000; stroke-width:2; stroke-opacity:0.1; fill:none\" points=\"\n  183.279,196.822 2352.76,196.822 \n  \"/>\n<polyline clip-path=\"url(#clip5600)\" style=\"stroke:#000000; stroke-width:4; stroke-opacity:1; fill:none\" points=\"\n  183.279,1491.86 2352.76,1491.86 \n  \"/>\n<polyline clip-path=\"url(#clip5600)\" style=\"stroke:#000000; stroke-width:4; stroke-opacity:1; fill:none\" points=\"\n  183.279,1491.86 183.279,47.2441 \n  \"/>\n<polyline clip-path=\"url(#clip5600)\" style=\"stroke:#000000; stroke-width:4; stroke-opacity:1; fill:none\" points=\"\n  242.266,1491.86 242.266,1474.52 \n  \"/>\n<polyline clip-path=\"url(#clip5600)\" style=\"stroke:#000000; stroke-width:4; stroke-opacity:1; fill:none\" points=\"\n  543.958,1491.86 543.958,1474.52 \n  \"/>\n<polyline clip-path=\"url(#clip5600)\" style=\"stroke:#000000; stroke-width:4; stroke-opacity:1; fill:none\" points=\"\n  845.649,1491.86 845.649,1474.52 \n  \"/>\n<polyline clip-path=\"url(#clip5600)\" style=\"stroke:#000000; stroke-width:4; stroke-opacity:1; fill:none\" points=\"\n  1147.34,1491.86 1147.34,1474.52 \n  \"/>\n<polyline clip-path=\"url(#clip5600)\" style=\"stroke:#000000; stroke-width:4; stroke-opacity:1; fill:none\" points=\"\n  1449.03,1491.86 1449.03,1474.52 \n  \"/>\n<polyline clip-path=\"url(#clip5600)\" style=\"stroke:#000000; stroke-width:4; stroke-opacity:1; fill:none\" points=\"\n  1750.72,1491.86 1750.72,1474.52 \n  \"/>\n<polyline clip-path=\"url(#clip5600)\" style=\"stroke:#000000; stroke-width:4; stroke-opacity:1; fill:none\" points=\"\n  2052.42,1491.86 2052.42,1474.52 \n  \"/>\n<polyline clip-path=\"url(#clip5600)\" style=\"stroke:#000000; stroke-width:4; stroke-opacity:1; fill:none\" points=\"\n  183.279,1450.97 209.313,1450.97 \n  \"/>\n<polyline clip-path=\"url(#clip5600)\" style=\"stroke:#000000; stroke-width:4; stroke-opacity:1; fill:none\" points=\"\n  183.279,1032.92 209.313,1032.92 \n  \"/>\n<polyline clip-path=\"url(#clip5600)\" style=\"stroke:#000000; stroke-width:4; stroke-opacity:1; fill:none\" points=\"\n  183.279,614.873 209.313,614.873 \n  \"/>\n<polyline clip-path=\"url(#clip5600)\" style=\"stroke:#000000; stroke-width:4; stroke-opacity:1; fill:none\" points=\"\n  183.279,196.822 209.313,196.822 \n  \"/>\n<g clip-path=\"url(#clip5600)\">\n<text style=\"fill:#000000; fill-opacity:1; font-family:Arial,Helvetica Neue,Helvetica,sans-serif; font-size:48px; text-anchor:middle;\" transform=\"rotate(0, 242.266, 1545.86)\" x=\"242.266\" y=\"1545.86\">0.35</text>\n</g>\n<g clip-path=\"url(#clip5600)\">\n<text style=\"fill:#000000; fill-opacity:1; font-family:Arial,Helvetica Neue,Helvetica,sans-serif; font-size:48px; text-anchor:middle;\" transform=\"rotate(0, 543.958, 1545.86)\" x=\"543.958\" y=\"1545.86\">0.40</text>\n</g>\n<g clip-path=\"url(#clip5600)\">\n<text style=\"fill:#000000; fill-opacity:1; font-family:Arial,Helvetica Neue,Helvetica,sans-serif; font-size:48px; text-anchor:middle;\" transform=\"rotate(0, 845.649, 1545.86)\" x=\"845.649\" y=\"1545.86\">0.45</text>\n</g>\n<g clip-path=\"url(#clip5600)\">\n<text style=\"fill:#000000; fill-opacity:1; font-family:Arial,Helvetica Neue,Helvetica,sans-serif; font-size:48px; text-anchor:middle;\" transform=\"rotate(0, 1147.34, 1545.86)\" x=\"1147.34\" y=\"1545.86\">0.50</text>\n</g>\n<g clip-path=\"url(#clip5600)\">\n<text style=\"fill:#000000; fill-opacity:1; font-family:Arial,Helvetica Neue,Helvetica,sans-serif; font-size:48px; text-anchor:middle;\" transform=\"rotate(0, 1449.03, 1545.86)\" x=\"1449.03\" y=\"1545.86\">0.55</text>\n</g>\n<g clip-path=\"url(#clip5600)\">\n<text style=\"fill:#000000; fill-opacity:1; font-family:Arial,Helvetica Neue,Helvetica,sans-serif; font-size:48px; text-anchor:middle;\" transform=\"rotate(0, 1750.72, 1545.86)\" x=\"1750.72\" y=\"1545.86\">0.60</text>\n</g>\n<g clip-path=\"url(#clip5600)\">\n<text style=\"fill:#000000; fill-opacity:1; font-family:Arial,Helvetica Neue,Helvetica,sans-serif; font-size:48px; text-anchor:middle;\" transform=\"rotate(0, 2052.42, 1545.86)\" x=\"2052.42\" y=\"1545.86\">0.65</text>\n</g>\n<g clip-path=\"url(#clip5600)\">\n<text style=\"fill:#000000; fill-opacity:1; font-family:Arial,Helvetica Neue,Helvetica,sans-serif; font-size:48px; text-anchor:end;\" transform=\"rotate(0, 159.279, 1468.47)\" x=\"159.279\" y=\"1468.47\">0</text>\n</g>\n<g clip-path=\"url(#clip5600)\">\n<text style=\"fill:#000000; fill-opacity:1; font-family:Arial,Helvetica Neue,Helvetica,sans-serif; font-size:48px; text-anchor:end;\" transform=\"rotate(0, 159.279, 1050.42)\" x=\"159.279\" y=\"1050.42\">50</text>\n</g>\n<g clip-path=\"url(#clip5600)\">\n<text style=\"fill:#000000; fill-opacity:1; font-family:Arial,Helvetica Neue,Helvetica,sans-serif; font-size:48px; text-anchor:end;\" transform=\"rotate(0, 159.279, 632.373)\" x=\"159.279\" y=\"632.373\">100</text>\n</g>\n<g clip-path=\"url(#clip5600)\">\n<text style=\"fill:#000000; fill-opacity:1; font-family:Arial,Helvetica Neue,Helvetica,sans-serif; font-size:48px; text-anchor:end;\" transform=\"rotate(0, 159.279, 214.322)\" x=\"159.279\" y=\"214.322\">150</text>\n</g>\n<path clip-path=\"url(#clip5602)\" d=\"\nM302.604 1417.53 L302.604 1450.97 L423.281 1450.97 L423.281 1417.53 L302.604 1417.53 L302.604 1417.53  Z\n  \" fill=\"#009af9\" fill-rule=\"evenodd\" fill-opacity=\"1\"/>\n<polyline clip-path=\"url(#clip5602)\" style=\"stroke:#000000; stroke-width:4; stroke-opacity:1; fill:none\" points=\"\n  302.604,1417.53 302.604,1450.97 423.281,1450.97 423.281,1417.53 302.604,1417.53 \n  \"/>\n<path clip-path=\"url(#clip5602)\" d=\"\nM423.281 1400.81 L423.281 1450.97 L543.958 1450.97 L543.958 1400.81 L423.281 1400.81 L423.281 1400.81  Z\n  \" fill=\"#009af9\" fill-rule=\"evenodd\" fill-opacity=\"1\"/>\n<polyline clip-path=\"url(#clip5602)\" style=\"stroke:#000000; stroke-width:4; stroke-opacity:1; fill:none\" points=\"\n  423.281,1400.81 423.281,1450.97 543.958,1450.97 543.958,1400.81 423.281,1400.81 \n  \"/>\n<path clip-path=\"url(#clip5602)\" d=\"\nM543.958 1275.39 L543.958 1450.97 L664.634 1450.97 L664.634 1275.39 L543.958 1275.39 L543.958 1275.39  Z\n  \" fill=\"#009af9\" fill-rule=\"evenodd\" fill-opacity=\"1\"/>\n<polyline clip-path=\"url(#clip5602)\" style=\"stroke:#000000; stroke-width:4; stroke-opacity:1; fill:none\" points=\"\n  543.958,1275.39 543.958,1450.97 664.634,1450.97 664.634,1275.39 543.958,1275.39 \n  \"/>\n<path clip-path=\"url(#clip5602)\" d=\"\nM664.634 1166.7 L664.634 1450.97 L785.311 1450.97 L785.311 1166.7 L664.634 1166.7 L664.634 1166.7  Z\n  \" fill=\"#009af9\" fill-rule=\"evenodd\" fill-opacity=\"1\"/>\n<polyline clip-path=\"url(#clip5602)\" style=\"stroke:#000000; stroke-width:4; stroke-opacity:1; fill:none\" points=\"\n  664.634,1166.7 664.634,1450.97 785.311,1450.97 785.311,1166.7 664.634,1166.7 \n  \"/>\n<path clip-path=\"url(#clip5602)\" d=\"\nM785.311 899.147 L785.311 1450.97 L905.988 1450.97 L905.988 899.147 L785.311 899.147 L785.311 899.147  Z\n  \" fill=\"#009af9\" fill-rule=\"evenodd\" fill-opacity=\"1\"/>\n<polyline clip-path=\"url(#clip5602)\" style=\"stroke:#000000; stroke-width:4; stroke-opacity:1; fill:none\" points=\"\n  785.311,899.147 785.311,1450.97 905.988,1450.97 905.988,899.147 785.311,899.147 \n  \"/>\n<path clip-path=\"url(#clip5602)\" d=\"\nM905.988 715.205 L905.988 1450.97 L1026.66 1450.97 L1026.66 715.205 L905.988 715.205 L905.988 715.205  Z\n  \" fill=\"#009af9\" fill-rule=\"evenodd\" fill-opacity=\"1\"/>\n<polyline clip-path=\"url(#clip5602)\" style=\"stroke:#000000; stroke-width:4; stroke-opacity:1; fill:none\" points=\"\n  905.988,715.205 905.988,1450.97 1026.66,1450.97 1026.66,715.205 905.988,715.205 \n  \"/>\n<path clip-path=\"url(#clip5602)\" d=\"\nM1026.66 389.125 L1026.66 1450.97 L1147.34 1450.97 L1147.34 389.125 L1026.66 389.125 L1026.66 389.125  Z\n  \" fill=\"#009af9\" fill-rule=\"evenodd\" fill-opacity=\"1\"/>\n<polyline clip-path=\"url(#clip5602)\" style=\"stroke:#000000; stroke-width:4; stroke-opacity:1; fill:none\" points=\"\n  1026.66,389.125 1026.66,1450.97 1147.34,1450.97 1147.34,389.125 1026.66,389.125 \n  \"/>\n<path clip-path=\"url(#clip5602)\" d=\"\nM1147.34 88.1294 L1147.34 1450.97 L1268.02 1450.97 L1268.02 88.1294 L1147.34 88.1294 L1147.34 88.1294  Z\n  \" fill=\"#009af9\" fill-rule=\"evenodd\" fill-opacity=\"1\"/>\n<polyline clip-path=\"url(#clip5602)\" style=\"stroke:#000000; stroke-width:4; stroke-opacity:1; fill:none\" points=\"\n  1147.34,88.1294 1147.34,1450.97 1268.02,1450.97 1268.02,88.1294 1147.34,88.1294 \n  \"/>\n<path clip-path=\"url(#clip5602)\" d=\"\nM1268.02 272.071 L1268.02 1450.97 L1388.69 1450.97 L1388.69 272.071 L1268.02 272.071 L1268.02 272.071  Z\n  \" fill=\"#009af9\" fill-rule=\"evenodd\" fill-opacity=\"1\"/>\n<polyline clip-path=\"url(#clip5602)\" style=\"stroke:#000000; stroke-width:4; stroke-opacity:1; fill:none\" points=\"\n  1268.02,272.071 1268.02,1450.97 1388.69,1450.97 1388.69,272.071 1268.02,272.071 \n  \"/>\n<path clip-path=\"url(#clip5602)\" d=\"\nM1388.69 422.569 L1388.69 1450.97 L1509.37 1450.97 L1509.37 422.569 L1388.69 422.569 L1388.69 422.569  Z\n  \" fill=\"#009af9\" fill-rule=\"evenodd\" fill-opacity=\"1\"/>\n<polyline clip-path=\"url(#clip5602)\" style=\"stroke:#000000; stroke-width:4; stroke-opacity:1; fill:none\" points=\"\n  1388.69,422.569 1388.69,1450.97 1509.37,1450.97 1509.37,422.569 1388.69,422.569 \n  \"/>\n<path clip-path=\"url(#clip5602)\" d=\"\nM1509.37 598.151 L1509.37 1450.97 L1630.05 1450.97 L1630.05 598.151 L1509.37 598.151 L1509.37 598.151  Z\n  \" fill=\"#009af9\" fill-rule=\"evenodd\" fill-opacity=\"1\"/>\n<polyline clip-path=\"url(#clip5602)\" style=\"stroke:#000000; stroke-width:4; stroke-opacity:1; fill:none\" points=\"\n  1509.37,598.151 1509.37,1450.97 1630.05,1450.97 1630.05,598.151 1509.37,598.151 \n  \"/>\n<path clip-path=\"url(#clip5602)\" d=\"\nM1630.05 924.23 L1630.05 1450.97 L1750.72 1450.97 L1750.72 924.23 L1630.05 924.23 L1630.05 924.23  Z\n  \" fill=\"#009af9\" fill-rule=\"evenodd\" fill-opacity=\"1\"/>\n<polyline clip-path=\"url(#clip5602)\" style=\"stroke:#000000; stroke-width:4; stroke-opacity:1; fill:none\" points=\"\n  1630.05,924.23 1630.05,1450.97 1750.72,1450.97 1750.72,924.23 1630.05,924.23 \n  \"/>\n<path clip-path=\"url(#clip5602)\" d=\"\nM1750.72 1108.17 L1750.72 1450.97 L1871.4 1450.97 L1871.4 1108.17 L1750.72 1108.17 L1750.72 1108.17  Z\n  \" fill=\"#009af9\" fill-rule=\"evenodd\" fill-opacity=\"1\"/>\n<polyline clip-path=\"url(#clip5602)\" style=\"stroke:#000000; stroke-width:4; stroke-opacity:1; fill:none\" points=\"\n  1750.72,1108.17 1750.72,1450.97 1871.4,1450.97 1871.4,1108.17 1750.72,1108.17 \n  \"/>\n<path clip-path=\"url(#clip5602)\" d=\"\nM1871.4 1350.64 L1871.4 1450.97 L1992.08 1450.97 L1992.08 1350.64 L1871.4 1350.64 L1871.4 1350.64  Z\n  \" fill=\"#009af9\" fill-rule=\"evenodd\" fill-opacity=\"1\"/>\n<polyline clip-path=\"url(#clip5602)\" style=\"stroke:#000000; stroke-width:4; stroke-opacity:1; fill:none\" points=\"\n  1871.4,1350.64 1871.4,1450.97 1992.08,1450.97 1992.08,1350.64 1871.4,1350.64 \n  \"/>\n<path clip-path=\"url(#clip5602)\" d=\"\nM1992.08 1400.81 L1992.08 1450.97 L2112.75 1450.97 L2112.75 1400.81 L1992.08 1400.81 L1992.08 1400.81  Z\n  \" fill=\"#009af9\" fill-rule=\"evenodd\" fill-opacity=\"1\"/>\n<polyline clip-path=\"url(#clip5602)\" style=\"stroke:#000000; stroke-width:4; stroke-opacity:1; fill:none\" points=\"\n  1992.08,1400.81 1992.08,1450.97 2112.75,1450.97 2112.75,1400.81 1992.08,1400.81 \n  \"/>\n<path clip-path=\"url(#clip5602)\" d=\"\nM2112.75 1425.89 L2112.75 1450.97 L2233.43 1450.97 L2233.43 1425.89 L2112.75 1425.89 L2112.75 1425.89  Z\n  \" fill=\"#009af9\" fill-rule=\"evenodd\" fill-opacity=\"1\"/>\n<polyline clip-path=\"url(#clip5602)\" style=\"stroke:#000000; stroke-width:4; stroke-opacity:1; fill:none\" points=\"\n  2112.75,1425.89 2112.75,1450.97 2233.43,1450.97 2233.43,1425.89 2112.75,1425.89 \n  \"/>\n<path clip-path=\"url(#clip5600)\" d=\"\nM1989.93 251.724 L2280.76 251.724 L2280.76 130.764 L1989.93 130.764  Z\n  \" fill=\"#ffffff\" fill-rule=\"evenodd\" fill-opacity=\"1\"/>\n<polyline clip-path=\"url(#clip5600)\" style=\"stroke:#000000; stroke-width:4; stroke-opacity:1; fill:none\" points=\"\n  1989.93,251.724 2280.76,251.724 2280.76,130.764 1989.93,130.764 1989.93,251.724 \n  \"/>\n<path clip-path=\"url(#clip5600)\" d=\"\nM2013.93 215.436 L2157.93 215.436 L2157.93 167.052 L2013.93 167.052 L2013.93 215.436  Z\n  \" fill=\"#009af9\" fill-rule=\"evenodd\" fill-opacity=\"1\"/>\n<polyline clip-path=\"url(#clip5600)\" style=\"stroke:#000000; stroke-width:4; stroke-opacity:1; fill:none\" points=\"\n  2013.93,215.436 2157.93,215.436 2157.93,167.052 2013.93,167.052 2013.93,215.436 \n  \"/>\n<g clip-path=\"url(#clip5600)\">\n<text style=\"fill:#000000; fill-opacity:1; font-family:Arial,Helvetica Neue,Helvetica,sans-serif; font-size:48px; text-anchor:start;\" transform=\"rotate(0, 2181.93, 208.744)\" x=\"2181.93\" y=\"208.744\">y1</text>\n</g>\n</svg>\n"
     },
     "execution_count": 3,
     "metadata": {},
     "output_type": "execute_result"
    }
   ],
   "source": [
    "# Set the true probability of heads in a coin.\n",
    "p_true = 0.5\n",
    "\n",
    "# Iterate from having seen 0 observations to 100 observations.\n",
    "Ns = 0:100\n",
    "\n",
    "# Draw data from a Bernoulli distribution, i.e. draw heads or tails.\n",
    "Random.seed!(12)\n",
    "data = rand(Bernoulli(p_true), last(Ns))\n",
    "\n",
    "# Declare our Turing model.\n",
    "@model function coinflip(y)\n",
    "    # Our prior belief about the probability of heads in a coin.\n",
    "    p ~ Beta(1, 1)\n",
    "\n",
    "    # The number of observations.\n",
    "    N = length(y)\n",
    "    for n in 1:N\n",
    "        # Heads or tails of a coin are drawn from a Bernoulli distribution.\n",
    "        y[n] ~ Bernoulli(p)\n",
    "    end\n",
    "end\n",
    "\n",
    "# Settings of the Hamiltonian Monte Carlo (HMC) sampler.\n",
    "iterations = 1000\n",
    "ϵ = 0.05\n",
    "τ = 10\n",
    "\n",
    "# Start sampling.\n",
    "chain = sample(coinflip(data), HMC(ϵ, τ), iterations)\n",
    "\n",
    "# Plot a summary of the sampling process for the parameter p, i.e. the probability of heads in a coin.\n",
    "histogram(chain[:p])"
   ]
  },
  {
   "cell_type": "code",
   "execution_count": null,
   "metadata": {},
   "outputs": [],
   "source": []
  }
 ],
 "metadata": {
  "kernelspec": {
   "display_name": "Julia 1.8.1",
   "language": "julia",
   "name": "julia-1.8"
  },
  "language_info": {
   "file_extension": ".jl",
   "mimetype": "application/julia",
   "name": "julia",
   "version": "1.8.1"
  },
  "orig_nbformat": 4
 },
 "nbformat": 4,
 "nbformat_minor": 2
}
