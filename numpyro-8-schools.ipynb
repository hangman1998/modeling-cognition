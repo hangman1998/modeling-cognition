{
 "cells": [
  {
   "cell_type": "code",
   "execution_count": 1,
   "id": "0240cb48-c7bb-4aa5-90f4-4776cd581cae",
   "metadata": {},
   "outputs": [],
   "source": [
    "import numpy as np\n",
    "import numpyro\n",
    "import numpyro.distributions as dist\n",
    "from jax import random\n",
    "from numpyro.infer import MCMC, NUTS"
   ]
  },
  {
   "cell_type": "code",
   "execution_count": 2,
   "id": "51fc9e81-2948-46b1-bae5-9017c54c8ce1",
   "metadata": {},
   "outputs": [],
   "source": [
    "J = 8\n",
    "y = np.array([28.0, 8.0, -3.0, 7.0, -1.0, 1.0, 18.0, 12.0])\n",
    "sigma = np.array([15.0, 10.0, 16.0, 11.0, 9.0, 11.0, 10.0, 18.0])\n"
   ]
  },
  {
   "cell_type": "code",
   "execution_count": 3,
   "id": "ba6854e2-6b08-47f0-8171-059d868f144b",
   "metadata": {},
   "outputs": [],
   "source": [
    "def eight_schools(J, sigma, y=None):\n",
    "    mu = numpyro.sample('mu', dist.Normal(0, 5))\n",
    "    tau = numpyro.sample('tau', dist.HalfCauchy(5))\n",
    "    with numpyro.plate('J', J):\n",
    "        theta = numpyro.sample('theta', dist.Normal(mu, tau))\n",
    "        numpyro.sample('obs', dist.Normal(theta, sigma), obs=y)"
   ]
  },
  {
   "cell_type": "code",
   "execution_count": 4,
   "id": "f1f65547-9241-4904-a367-1fb46236e39c",
   "metadata": {},
   "outputs": [
    {
     "name": "stderr",
     "output_type": "stream",
     "text": [
      "sample: 100%|██████████| 1500/1500 [00:09<00:00, 165.74it/s, 7 steps of size 2.59e-01. acc. prob=0.76] \n"
     ]
    }
   ],
   "source": [
    "\n",
    "nuts_kernel = NUTS(eight_schools)\n",
    "\n",
    "mcmc = MCMC(nuts_kernel, num_warmup=500, num_samples=1000)\n",
    "rng_key = random.PRNGKey(0)\n",
    "mcmc.run(rng_key, J, sigma, y=y, extra_fields=('potential_energy',))"
   ]
  },
  {
   "cell_type": "code",
   "execution_count": 5,
   "id": "9853c5f5-bd23-4ac0-9ac4-992bb56ad4d9",
   "metadata": {},
   "outputs": [
    {
     "name": "stdout",
     "output_type": "stream",
     "text": [
      "\n",
      "                mean       std    median      5.0%     95.0%     n_eff     r_hat\n",
      "        mu      3.92      3.34      3.55     -1.37      9.40    170.62      1.01\n",
      "       tau      4.24      3.27      3.27      0.93      8.24     84.25      1.02\n",
      "  theta[0]      6.06      5.85      5.15     -2.82     14.47    147.79      1.02\n",
      "  theta[1]      4.59      4.92      4.28     -3.76     11.57    323.62      1.01\n",
      "  theta[2]      3.04      5.72      2.92     -6.03     11.64    353.25      1.00\n",
      "  theta[3]      4.22      5.31      3.67     -3.69     12.65    265.08      1.02\n",
      "  theta[4]      2.94      5.07      2.98     -3.93     11.70    363.29      1.00\n",
      "  theta[5]      3.65      5.23      3.50     -4.30     11.78    324.80      1.00\n",
      "  theta[6]      6.08      5.54      5.38     -1.62     15.65    192.22      1.02\n",
      "  theta[7]      4.35      5.42      3.76     -4.02     12.75    369.64      1.01\n",
      "\n",
      "Number of divergences: 29\n"
     ]
    }
   ],
   "source": [
    "mcmc.print_summary()  "
   ]
  },
  {
   "cell_type": "code",
   "execution_count": 6,
   "id": "8bb8c9b5-58ba-4d1c-b6c6-e92027b77a8a",
   "metadata": {},
   "outputs": [
    {
     "name": "stdout",
     "output_type": "stream",
     "text": [
      "Expected log joint density: -55.55\n"
     ]
    }
   ],
   "source": [
    "pe = mcmc.get_extra_fields()['potential_energy']\n",
    "print('Expected log joint density: {:.2f}'.format(np.mean(-pe)))  "
   ]
  },
  {
   "cell_type": "code",
   "execution_count": 7,
   "id": "bb9103c2",
   "metadata": {},
   "outputs": [],
   "source": [
    "from numpyro.infer.reparam import TransformReparam"
   ]
  },
  {
   "cell_type": "code",
   "execution_count": 9,
   "id": "86c6076b",
   "metadata": {},
   "outputs": [
    {
     "name": "stderr",
     "output_type": "stream",
     "text": [
      "sample: 100%|██████████| 1500/1500 [00:05<00:00, 265.53it/s, 7 steps of size 4.63e-01. acc. prob=0.89]\n"
     ]
    },
    {
     "name": "stdout",
     "output_type": "stream",
     "text": [
      "\n",
      "                   mean       std    median      5.0%     95.0%     n_eff     r_hat\n",
      "           mu      4.27      3.36      4.27     -1.22      9.38    793.90      1.00\n",
      "          tau      3.72      3.48      2.81      0.00      7.96    893.12      1.00\n",
      "     theta[0]      6.30      5.79      5.60     -1.95     14.84    944.66      1.00\n",
      "     theta[1]      4.96      4.67      4.81     -3.65     11.23   1212.58      1.00\n",
      "     theta[2]      3.69      5.37      4.08     -5.19     11.64    926.15      1.00\n",
      "     theta[3]      4.78      4.68      4.71     -2.54     12.14   1131.32      1.00\n",
      "     theta[4]      3.48      4.78      3.97     -4.21     10.49   1042.15      1.00\n",
      "     theta[5]      3.92      4.77      4.23     -3.10     12.04   1300.24      1.00\n",
      "     theta[6]      6.34      5.09      5.88     -2.33     13.22    993.05      1.00\n",
      "     theta[7]      4.69      5.35      4.60     -2.59     12.64    815.38      1.00\n",
      "theta_base[0]      0.30      0.96      0.33     -1.22      2.02    952.88      1.00\n",
      "theta_base[1]      0.09      0.96      0.13     -1.38      1.68    947.19      1.00\n",
      "theta_base[2]     -0.11      0.96     -0.11     -1.73      1.41   1276.87      1.00\n",
      "theta_base[3]      0.09      0.93      0.08     -1.42      1.53   1318.81      1.00\n",
      "theta_base[4]     -0.17      0.94     -0.20     -1.78      1.27   1402.25      1.00\n",
      "theta_base[5]     -0.05      0.93     -0.03     -1.47      1.56   1441.03      1.00\n",
      "theta_base[6]      0.39      0.91      0.38     -1.12      1.87    973.61      1.00\n",
      "theta_base[7]      0.06      0.95      0.07     -1.67      1.48   1277.91      1.00\n",
      "\n",
      "Number of divergences: 0\n"
     ]
    }
   ],
   "source": [
    "# Eight Schools example - Non-centered Reparametrization\n",
    "def eight_schools_noncentered(J, sigma, y=None):\n",
    "    mu = numpyro.sample('mu', dist.Normal(0, 5))\n",
    "    tau = numpyro.sample('tau', dist.HalfCauchy(5))\n",
    "    with numpyro.plate('J', J):\n",
    "        with numpyro.handlers.reparam(config={'theta': TransformReparam()}):\n",
    "            theta = numpyro.sample('theta',dist.TransformedDistribution(dist.Normal(0., 1.),dist.transforms.AffineTransform(mu, tau)))\n",
    "    numpyro.sample('obs', dist.Normal(theta, sigma), obs=y)\n",
    "\n",
    "\n",
    "nuts_kernel = NUTS(eight_schools_noncentered)\n",
    "mcmc = MCMC(nuts_kernel, num_warmup=500, num_samples=1000)\n",
    "rng_key = random.PRNGKey(0)\n",
    "mcmc.run(rng_key, J, sigma, y=y, extra_fields=('potential_energy',))\n",
    "mcmc.print_summary(exclude_deterministic=False)  \n"
   ]
  },
  {
   "cell_type": "code",
   "execution_count": 15,
   "id": "3a41a86d",
   "metadata": {},
   "outputs": [
    {
     "name": "stdout",
     "output_type": "stream",
     "text": [
      "Expected log joint density: -46.11\n"
     ]
    }
   ],
   "source": [
    "pe = mcmc.get_extra_fields()['potential_energy']\n",
    "# Compare with the earlier value\n",
    "print('Expected log joint density: {:.2f}'.format(np.mean(-pe)))  "
   ]
  },
  {
   "cell_type": "code",
   "execution_count": 16,
   "id": "d2b8eee8",
   "metadata": {},
   "outputs": [
    {
     "name": "stdout",
     "output_type": "stream",
     "text": [
      "4.4116945\n"
     ]
    }
   ],
   "source": [
    "from numpyro.infer import Predictive\n",
    "# New School\n",
    "def new_school():\n",
    "    mu = numpyro.sample('mu', dist.Normal(0, 5))\n",
    "    tau = numpyro.sample('tau', dist.HalfCauchy(5))\n",
    "    return numpyro.sample('obs', dist.Normal(mu, tau))\n",
    "\n",
    "predictive = Predictive(new_school, mcmc.get_samples())\n",
    "samples_predictive = predictive(random.PRNGKey(1))\n",
    "print(np.mean(samples_predictive['obs']))  "
   ]
  }
 ],
 "metadata": {
  "kernelspec": {
   "display_name": "Python 3.10.6 ('ml')",
   "language": "python",
   "name": "python3"
  },
  "language_info": {
   "codemirror_mode": {
    "name": "ipython",
    "version": 3
   },
   "file_extension": ".py",
   "mimetype": "text/x-python",
   "name": "python",
   "nbconvert_exporter": "python",
   "pygments_lexer": "ipython3",
   "version": "3.10.6"
  },
  "vscode": {
   "interpreter": {
    "hash": "11ca9a58c9e52584db795f5a1468ab7c1f05cb2cae197cdda1211aa57d04e617"
   }
  }
 },
 "nbformat": 4,
 "nbformat_minor": 5
}
