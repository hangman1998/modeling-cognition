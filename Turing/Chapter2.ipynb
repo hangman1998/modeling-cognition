{
 "cells": [
  {
   "cell_type": "markdown",
   "metadata": {},
   "source": [
    "## Import Package"
   ]
  },
  {
   "cell_type": "code",
   "execution_count": 7,
   "metadata": {},
   "outputs": [],
   "source": [
    "using Turing\n",
    "using StatsPlots\n",
    "using Random\n",
    "using Distributions"
   ]
  },
  {
   "cell_type": "markdown",
   "metadata": {},
   "source": [
    "### Define the model"
   ]
  },
  {
   "cell_type": "code",
   "execution_count": null,
   "metadata": {},
   "outputs": [],
   "source": [
    "@model function urnmodel()\n",
    "    bias ~ Uniform(0,10)\n",
    "    red_bias ~ Uniform(0,bias)\n",
    "    black_bias = bias-red_bias\n",
    "    red_proportion ~ beta(0.4+red_bias,0.4+black_bias)\n",
    "    red_number ~ Bionomial(15)\n",
    "end    \n",
    "\n",
    "chn = sample(urnmodel,HMC(0.1, 5), 1000)\n"
   ]
  }
 ],
 "metadata": {
  "kernelspec": {
   "display_name": "Julia 1.8.1",
   "language": "julia",
   "name": "julia-1.8"
  },
  "language_info": {
   "file_extension": ".jl",
   "mimetype": "application/julia",
   "name": "julia",
   "version": "1.8.1"
  },
  "orig_nbformat": 4,
  "vscode": {
   "interpreter": {
    "hash": "369f2c481f4da34e4445cda3fffd2e751bd1c4d706f27375911949ba6bb62e1c"
   }
  }
 },
 "nbformat": 4,
 "nbformat_minor": 2
}
